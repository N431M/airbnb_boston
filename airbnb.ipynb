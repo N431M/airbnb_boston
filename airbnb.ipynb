{
 "cells": [
  {
   "cell_type": "markdown",
   "metadata": {},
   "source": [
    "### Table of Contents\n",
    "\n",
    "1. [Installation - Importing data, modules and libs](#installation)\n",
    "2. [Project Motivation](#motivation)\n",
    "3. [File Descriptions](#files)\n",
    "4. [Results](#results)\n",
    "5. [Licensing, Authors, and Acknowledgements](#licensing)"
   ]
  },
  {
   "cell_type": "markdown",
   "metadata": {},
   "source": [
    "## Installation <a name=\"installation\"></a>"
   ]
  },
  {
   "cell_type": "markdown",
   "metadata": {},
   "source": [
    "### Importing modules, libs and csv files"
   ]
  },
  {
   "cell_type": "code",
   "execution_count": 281,
   "metadata": {},
   "outputs": [],
   "source": [
    "import matplotlib.dates as mdates"
   ]
  },
  {
   "cell_type": "code",
   "execution_count": 354,
   "metadata": {},
   "outputs": [],
   "source": [
    "from collections import defaultdict"
   ]
  },
  {
   "cell_type": "code",
   "execution_count": 329,
   "metadata": {},
   "outputs": [],
   "source": [
    "import matplotlib.ticker as mtick"
   ]
  },
  {
   "cell_type": "code",
   "execution_count": 324,
   "metadata": {},
   "outputs": [],
   "source": [
    "import matplotlib"
   ]
  },
  {
   "cell_type": "code",
   "execution_count": 322,
   "metadata": {},
   "outputs": [],
   "source": [
    "import matplotlib.pyplot as plt"
   ]
  },
  {
   "cell_type": "code",
   "execution_count": 195,
   "metadata": {},
   "outputs": [],
   "source": [
    "import numpy as np\n",
    "import pandas as pd\n",
    "import matplotlib.pyplot as plt\n",
    "from sklearn.linear_model import LinearRegression\n",
    "from sklearn.model_selection import train_test_split\n",
    "from sklearn.metrics import r2_score, mean_squared_error\n",
    "from pandas.tseries.offsets import MonthEnd\n",
    "import seaborn as sns\n",
    "%matplotlib inline\n",
    "#AirBnB Boston\n",
    "calendar_b = pd.read_csv('calendar.csv')\n",
    "reviews_b = pd.read_csv('reviews.csv')\n",
    "listings_b = pd.read_csv('listings.csv')\n",
    "#AirBnB Seattle\n",
    "calendar_s = pd.read_csv('calendar-2.csv')\n",
    "reviews_s = pd.read_csv('reviews-2.csv')\n",
    "listings_s = pd.read_csv('listings-2.csv')"
   ]
  },
  {
   "cell_type": "markdown",
   "metadata": {},
   "source": [
    "## Project Motivation <a name=\"motivation\"></a>"
   ]
  },
  {
   "cell_type": "markdown",
   "metadata": {},
   "source": [
    "For this project, I was interestested in using Airbnb Open Data, Boston and Seattle in particular\n",
    "to better understand:\n",
    "\n",
    "1. How much AirBnB earning in certain time frames and areas?\n",
    "2. Compare rates between the two cities? \n",
    "and try to understand if there is anything about the properties that helps you predict price. \n",
    "3. Find negative and positive reviews based on text? "
   ]
  },
  {
   "cell_type": "markdown",
   "metadata": {},
   "source": [
    "## File Descriptions <a name=\"file\"></a>"
   ]
  },
  {
   "cell_type": "markdown",
   "metadata": {},
   "source": [
    "### Boston datasets"
   ]
  },
  {
   "cell_type": "markdown",
   "metadata": {},
   "source": [
    "#### Calendar"
   ]
  },
  {
   "cell_type": "code",
   "execution_count": 163,
   "metadata": {},
   "outputs": [
    {
     "data": {
      "text/plain": [
       "(1308890, 4)"
      ]
     },
     "execution_count": 163,
     "metadata": {},
     "output_type": "execute_result"
    }
   ],
   "source": [
    "calendar_b.shape"
   ]
  },
  {
   "cell_type": "code",
   "execution_count": 170,
   "metadata": {},
   "outputs": [
    {
     "data": {
      "text/html": [
       "<div>\n",
       "<style scoped>\n",
       "    .dataframe tbody tr th:only-of-type {\n",
       "        vertical-align: middle;\n",
       "    }\n",
       "\n",
       "    .dataframe tbody tr th {\n",
       "        vertical-align: top;\n",
       "    }\n",
       "\n",
       "    .dataframe thead th {\n",
       "        text-align: right;\n",
       "    }\n",
       "</style>\n",
       "<table border=\"1\" class=\"dataframe\">\n",
       "  <thead>\n",
       "    <tr style=\"text-align: right;\">\n",
       "      <th></th>\n",
       "      <th>listing_id</th>\n",
       "      <th>date</th>\n",
       "      <th>available</th>\n",
       "      <th>price</th>\n",
       "    </tr>\n",
       "  </thead>\n",
       "  <tbody>\n",
       "    <tr>\n",
       "      <th>0</th>\n",
       "      <td>12147973</td>\n",
       "      <td>2017-09-05</td>\n",
       "      <td>f</td>\n",
       "      <td>NaN</td>\n",
       "    </tr>\n",
       "    <tr>\n",
       "      <th>1</th>\n",
       "      <td>12147973</td>\n",
       "      <td>2017-09-04</td>\n",
       "      <td>f</td>\n",
       "      <td>NaN</td>\n",
       "    </tr>\n",
       "    <tr>\n",
       "      <th>2</th>\n",
       "      <td>12147973</td>\n",
       "      <td>2017-09-03</td>\n",
       "      <td>f</td>\n",
       "      <td>NaN</td>\n",
       "    </tr>\n",
       "    <tr>\n",
       "      <th>3</th>\n",
       "      <td>12147973</td>\n",
       "      <td>2017-09-02</td>\n",
       "      <td>f</td>\n",
       "      <td>NaN</td>\n",
       "    </tr>\n",
       "    <tr>\n",
       "      <th>4</th>\n",
       "      <td>12147973</td>\n",
       "      <td>2017-09-01</td>\n",
       "      <td>f</td>\n",
       "      <td>NaN</td>\n",
       "    </tr>\n",
       "  </tbody>\n",
       "</table>\n",
       "</div>"
      ],
      "text/plain": [
       "   listing_id        date available price\n",
       "0    12147973  2017-09-05         f   NaN\n",
       "1    12147973  2017-09-04         f   NaN\n",
       "2    12147973  2017-09-03         f   NaN\n",
       "3    12147973  2017-09-02         f   NaN\n",
       "4    12147973  2017-09-01         f   NaN"
      ]
     },
     "execution_count": 170,
     "metadata": {},
     "output_type": "execute_result"
    }
   ],
   "source": [
    "calendar_b.head()"
   ]
  },
  {
   "cell_type": "code",
   "execution_count": 204,
   "metadata": {},
   "outputs": [
    {
     "name": "stdout",
     "output_type": "stream",
     "text": [
      "<class 'pandas.core.frame.DataFrame'>\n",
      "RangeIndex: 1308890 entries, 0 to 1308889\n",
      "Data columns (total 4 columns):\n",
      " #   Column      Non-Null Count    Dtype \n",
      "---  ------      --------------    ----- \n",
      " 0   listing_id  1308890 non-null  int64 \n",
      " 1   date        1308890 non-null  object\n",
      " 2   available   1308890 non-null  object\n",
      " 3   price       643037 non-null   object\n",
      "dtypes: int64(1), object(3)\n",
      "memory usage: 39.9+ MB\n"
     ]
    }
   ],
   "source": [
    "calendar_b.info()"
   ]
  },
  {
   "cell_type": "code",
   "execution_count": 205,
   "metadata": {},
   "outputs": [
    {
     "data": {
      "text/plain": [
       "665853"
      ]
     },
     "execution_count": 205,
     "metadata": {},
     "output_type": "execute_result"
    }
   ],
   "source": [
    "#let's check how much rows with na prices\n",
    "calendar_b['price'].isna().sum()"
   ]
  },
  {
   "cell_type": "code",
   "execution_count": 206,
   "metadata": {},
   "outputs": [],
   "source": [
    "#let's drop rows with na prices\n",
    "calendar_b_clean=calendar_b.dropna(subset=['price'])"
   ]
  },
  {
   "cell_type": "code",
   "execution_count": 207,
   "metadata": {},
   "outputs": [],
   "source": [
    "#changing data type for column 'date' to datetime\n",
    "calendar_b_clean.loc[:,'date']=pd.to_datetime(calendar_b_clean.loc[:,'date'])"
   ]
  },
  {
   "cell_type": "code",
   "execution_count": 208,
   "metadata": {},
   "outputs": [],
   "source": [
    "#changing data type for column 'price' to float\n",
    "calendar_b_clean.loc[:,'price']=calendar_b_clean.loc[:,'price'].replace('[\\$,]', '', regex=True).astype(float)"
   ]
  },
  {
   "cell_type": "code",
   "execution_count": 210,
   "metadata": {},
   "outputs": [
    {
     "name": "stdout",
     "output_type": "stream",
     "text": [
      "<class 'pandas.core.frame.DataFrame'>\n",
      "Int64Index: 643037 entries, 365 to 1308879\n",
      "Data columns (total 4 columns):\n",
      " #   Column      Non-Null Count   Dtype         \n",
      "---  ------      --------------   -----         \n",
      " 0   listing_id  643037 non-null  int64         \n",
      " 1   date        643037 non-null  datetime64[ns]\n",
      " 2   available   643037 non-null  object        \n",
      " 3   price       643037 non-null  float64       \n",
      "dtypes: datetime64[ns](1), float64(1), int64(1), object(1)\n",
      "memory usage: 24.5+ MB\n"
     ]
    }
   ],
   "source": [
    "#check\n",
    "calendar_b_clean.info()"
   ]
  },
  {
   "cell_type": "markdown",
   "metadata": {},
   "source": [
    "### Reviews"
   ]
  },
  {
   "cell_type": "code",
   "execution_count": 215,
   "metadata": {},
   "outputs": [
    {
     "name": "stdout",
     "output_type": "stream",
     "text": [
      "<class 'pandas.core.frame.DataFrame'>\n",
      "RangeIndex: 68275 entries, 0 to 68274\n",
      "Data columns (total 6 columns):\n",
      " #   Column         Non-Null Count  Dtype \n",
      "---  ------         --------------  ----- \n",
      " 0   listing_id     68275 non-null  int64 \n",
      " 1   id             68275 non-null  int64 \n",
      " 2   date           68275 non-null  object\n",
      " 3   reviewer_id    68275 non-null  int64 \n",
      " 4   reviewer_name  68275 non-null  object\n",
      " 5   comments       68222 non-null  object\n",
      "dtypes: int64(3), object(3)\n",
      "memory usage: 3.1+ MB\n"
     ]
    }
   ],
   "source": [
    "reviews_b.info()"
   ]
  },
  {
   "cell_type": "code",
   "execution_count": 211,
   "metadata": {},
   "outputs": [
    {
     "data": {
      "text/html": [
       "<div>\n",
       "<style scoped>\n",
       "    .dataframe tbody tr th:only-of-type {\n",
       "        vertical-align: middle;\n",
       "    }\n",
       "\n",
       "    .dataframe tbody tr th {\n",
       "        vertical-align: top;\n",
       "    }\n",
       "\n",
       "    .dataframe thead th {\n",
       "        text-align: right;\n",
       "    }\n",
       "</style>\n",
       "<table border=\"1\" class=\"dataframe\">\n",
       "  <thead>\n",
       "    <tr style=\"text-align: right;\">\n",
       "      <th></th>\n",
       "      <th>listing_id</th>\n",
       "      <th>id</th>\n",
       "      <th>date</th>\n",
       "      <th>reviewer_id</th>\n",
       "      <th>reviewer_name</th>\n",
       "      <th>comments</th>\n",
       "    </tr>\n",
       "  </thead>\n",
       "  <tbody>\n",
       "    <tr>\n",
       "      <th>0</th>\n",
       "      <td>1178162</td>\n",
       "      <td>4724140</td>\n",
       "      <td>2013-05-21</td>\n",
       "      <td>4298113</td>\n",
       "      <td>Olivier</td>\n",
       "      <td>My stay at islam's place was really cool! Good...</td>\n",
       "    </tr>\n",
       "    <tr>\n",
       "      <th>1</th>\n",
       "      <td>1178162</td>\n",
       "      <td>4869189</td>\n",
       "      <td>2013-05-29</td>\n",
       "      <td>6452964</td>\n",
       "      <td>Charlotte</td>\n",
       "      <td>Great location for both airport and city - gre...</td>\n",
       "    </tr>\n",
       "    <tr>\n",
       "      <th>2</th>\n",
       "      <td>1178162</td>\n",
       "      <td>5003196</td>\n",
       "      <td>2013-06-06</td>\n",
       "      <td>6449554</td>\n",
       "      <td>Sebastian</td>\n",
       "      <td>We really enjoyed our stay at Islams house. Fr...</td>\n",
       "    </tr>\n",
       "    <tr>\n",
       "      <th>3</th>\n",
       "      <td>1178162</td>\n",
       "      <td>5150351</td>\n",
       "      <td>2013-06-15</td>\n",
       "      <td>2215611</td>\n",
       "      <td>Marine</td>\n",
       "      <td>The room was nice and clean and so were the co...</td>\n",
       "    </tr>\n",
       "    <tr>\n",
       "      <th>4</th>\n",
       "      <td>1178162</td>\n",
       "      <td>5171140</td>\n",
       "      <td>2013-06-16</td>\n",
       "      <td>6848427</td>\n",
       "      <td>Andrew</td>\n",
       "      <td>Great location. Just 5 mins walk from the Airp...</td>\n",
       "    </tr>\n",
       "  </tbody>\n",
       "</table>\n",
       "</div>"
      ],
      "text/plain": [
       "   listing_id       id        date  reviewer_id reviewer_name  \\\n",
       "0     1178162  4724140  2013-05-21      4298113       Olivier   \n",
       "1     1178162  4869189  2013-05-29      6452964     Charlotte   \n",
       "2     1178162  5003196  2013-06-06      6449554     Sebastian   \n",
       "3     1178162  5150351  2013-06-15      2215611        Marine   \n",
       "4     1178162  5171140  2013-06-16      6848427        Andrew   \n",
       "\n",
       "                                            comments  \n",
       "0  My stay at islam's place was really cool! Good...  \n",
       "1  Great location for both airport and city - gre...  \n",
       "2  We really enjoyed our stay at Islams house. Fr...  \n",
       "3  The room was nice and clean and so were the co...  \n",
       "4  Great location. Just 5 mins walk from the Airp...  "
      ]
     },
     "execution_count": 211,
     "metadata": {},
     "output_type": "execute_result"
    }
   ],
   "source": [
    "reviews_b.head()"
   ]
  },
  {
   "cell_type": "code",
   "execution_count": 216,
   "metadata": {},
   "outputs": [],
   "source": [
    "#let's drop rows with na comments\n",
    "reviews_b_clean=reviews_b.dropna(subset=['comments'])"
   ]
  },
  {
   "cell_type": "code",
   "execution_count": 218,
   "metadata": {},
   "outputs": [],
   "source": [
    "#changing data type for column 'date' to datetime \n",
    "reviews_b_clean.loc[:,'date']=pd.to_datetime(reviews_b_clean.loc[:,'date'])"
   ]
  },
  {
   "cell_type": "code",
   "execution_count": 220,
   "metadata": {
    "scrolled": false
   },
   "outputs": [
    {
     "name": "stdout",
     "output_type": "stream",
     "text": [
      "<class 'pandas.core.frame.DataFrame'>\n",
      "Int64Index: 68222 entries, 0 to 68274\n",
      "Data columns (total 6 columns):\n",
      " #   Column         Non-Null Count  Dtype         \n",
      "---  ------         --------------  -----         \n",
      " 0   listing_id     68222 non-null  int64         \n",
      " 1   id             68222 non-null  int64         \n",
      " 2   date           68222 non-null  datetime64[ns]\n",
      " 3   reviewer_id    68222 non-null  int64         \n",
      " 4   reviewer_name  68222 non-null  object        \n",
      " 5   comments       68222 non-null  object        \n",
      "dtypes: datetime64[ns](1), int64(3), object(2)\n",
      "memory usage: 3.6+ MB\n"
     ]
    }
   ],
   "source": [
    "reviews_b_clean.info()"
   ]
  },
  {
   "cell_type": "code",
   "execution_count": 356,
   "metadata": {},
   "outputs": [],
   "source": [
    "def total_count(df, col1, col2, look_for):\n",
    "    '''\n",
    "    INPUT:\n",
    "    df - the pandas dataframe you want to search\n",
    "    col1 - the column name you want to look through\n",
    "    col2 - the column you want to count values from\n",
    "    look_for - a list of strings you want to search for in each row of df[col]\n",
    "\n",
    "    OUTPUT:\n",
    "    new_df - a dataframe of each look_for with the count of how often it shows up\n",
    "    '''\n",
    "    new_df = defaultdict(int)\n",
    "    #loop through list of ed types\n",
    "    for val in look_for:\n",
    "        #loop through rows\n",
    "        for idx in range(df.shape[0]):\n",
    "            #if the ed type is in the row add 1\n",
    "            if val in df[col1][idx]:\n",
    "                new_df[val] += int(df[col2][idx])\n",
    "    new_df = pd.DataFrame(pd.Series(new_df)).reset_index()\n",
    "    new_df.columns = [col1, col2]\n",
    "    new_df.sort_values('count', ascending=False, inplace=True)\n",
    "    return new_df"
   ]
  },
  {
   "cell_type": "code",
   "execution_count": 368,
   "metadata": {},
   "outputs": [],
   "source": [
    "possible_vals = [\"great\", \"good\", \n",
    "                 \"awesome\", \"nice\", \"bad\",\n",
    "                 \"awful\", \"ok\", \"terrible\",\"sweet\",\"very bad\"]\n",
    "\n",
    "def clean_and_plot(df, title='Reviews', plot=True):\n",
    "    '''\n",
    "    INPUT \n",
    "        df - a dataframe holding the CousinEducation column\n",
    "        title - string the title of your plot\n",
    "        axis - axis object\n",
    "        plot - bool providing whether or not you want a plot back\n",
    "        \n",
    "    OUTPUT\n",
    "        study_df - a dataframe with the count of how many individuals\n",
    "        Displays a plot of pretty things related to the CousinEducation column.\n",
    "    '''\n",
    "    comments = df['comments'].value_counts().reset_index()\n",
    "    comments.rename(columns={'index': 'comments', 'comments': 'count'}, inplace=True)\n",
    "    comments_df = total_count(comments, 'comments', 'count', possible_vals)\n",
    "\n",
    "    comments_df.set_index('comments', inplace=True)\n",
    "    if plot:\n",
    "        (comments_df/comments_df.sum()).plot(kind='bar', legend=None);\n",
    "        plt.title(title);\n",
    "        plt.show()\n",
    "    props_comments_df = comments_df/comments_df.sum()\n",
    "    return props_comments_df"
   ]
  },
  {
   "cell_type": "code",
   "execution_count": 369,
   "metadata": {},
   "outputs": [
    {
     "data": {
      "image/png": "[encoded data removed]",
      "text/plain": [
       "<Figure size 432x288 with 1 Axes>"
      ]
     },
     "metadata": {
      "needs_background": "light"
     },
     "output_type": "display_data"
    },
    {
     "data": {
      "text/html": [
       "<div>\n",
       "<style scoped>\n",
       "    .dataframe tbody tr th:only-of-type {\n",
       "        vertical-align: middle;\n",
       "    }\n",
       "\n",
       "    .dataframe tbody tr th {\n",
       "        vertical-align: top;\n",
       "    }\n",
       "\n",
       "    .dataframe thead th {\n",
       "        text-align: right;\n",
       "    }\n",
       "</style>\n",
       "<table border=\"1\" class=\"dataframe\">\n",
       "  <thead>\n",
       "    <tr style=\"text-align: right;\">\n",
       "      <th></th>\n",
       "      <th>count</th>\n",
       "    </tr>\n",
       "    <tr>\n",
       "      <th>comments</th>\n",
       "      <th></th>\n",
       "    </tr>\n",
       "  </thead>\n",
       "  <tbody>\n",
       "    <tr>\n",
       "      <th>great</th>\n",
       "      <td>0.388619</td>\n",
       "    </tr>\n",
       "    <tr>\n",
       "      <th>nice</th>\n",
       "      <td>0.236652</td>\n",
       "    </tr>\n",
       "    <tr>\n",
       "      <th>ok</th>\n",
       "      <td>0.176031</td>\n",
       "    </tr>\n",
       "    <tr>\n",
       "      <th>good</th>\n",
       "      <td>0.139490</td>\n",
       "    </tr>\n",
       "    <tr>\n",
       "      <th>awesome</th>\n",
       "      <td>0.032382</td>\n",
       "    </tr>\n",
       "    <tr>\n",
       "      <th>sweet</th>\n",
       "      <td>0.014887</td>\n",
       "    </tr>\n",
       "    <tr>\n",
       "      <th>bad</th>\n",
       "      <td>0.009638</td>\n",
       "    </tr>\n",
       "    <tr>\n",
       "      <th>terrible</th>\n",
       "      <td>0.001397</td>\n",
       "    </tr>\n",
       "    <tr>\n",
       "      <th>awful</th>\n",
       "      <td>0.000629</td>\n",
       "    </tr>\n",
       "    <tr>\n",
       "      <th>very bad</th>\n",
       "      <td>0.000276</td>\n",
       "    </tr>\n",
       "  </tbody>\n",
       "</table>\n",
       "</div>"
      ],
      "text/plain": [
       "             count\n",
       "comments          \n",
       "great     0.388619\n",
       "nice      0.236652\n",
       "ok        0.176031\n",
       "good      0.139490\n",
       "awesome   0.032382\n",
       "sweet     0.014887\n",
       "bad       0.009638\n",
       "terrible  0.001397\n",
       "awful     0.000629\n",
       "very bad  0.000276"
      ]
     },
     "execution_count": 369,
     "metadata": {},
     "output_type": "execute_result"
    }
   ],
   "source": [
    "clean_and_plot(reviews_b_clean)"
   ]
  },
  {
   "cell_type": "markdown",
   "metadata": {},
   "source": [
    "### Listings"
   ]
  },
  {
   "cell_type": "code",
   "execution_count": 229,
   "metadata": {},
   "outputs": [],
   "source": [
    "listings_b_clean=listings_b[listings_b.columns[listings_b.count()>=3500]]"
   ]
  },
  {
   "cell_type": "code",
   "execution_count": 231,
   "metadata": {},
   "outputs": [],
   "source": [
    "listings_b_clean=listings_b_clean.dropna()"
   ]
  },
  {
   "cell_type": "code",
   "execution_count": 372,
   "metadata": {},
   "outputs": [],
   "source": [
    "listings_b_clean.loc[:,'price']=listings_b_clean.loc[:,'price'].replace('[\\$,]', '', regex=True).astype(float)"
   ]
  },
  {
   "cell_type": "code",
   "execution_count": 376,
   "metadata": {},
   "outputs": [],
   "source": [
    "listings_b_clean.loc[:,'extra_people']=listings_b_clean.loc[:,'extra_people'].replace('[\\$,]', '', regex=True).astype(float)"
   ]
  },
  {
   "cell_type": "code",
   "execution_count": 384,
   "metadata": {},
   "outputs": [],
   "source": [
    "listings_model_cols=listings_b_clean[['property_type','room_type','accommodates','bathrooms','bedrooms','beds','bed_type','extra_people','availability_30','availability_60','availability_90','availability_365','number_of_reviews','price']]"
   ]
  },
  {
   "cell_type": "code",
   "execution_count": 383,
   "metadata": {},
   "outputs": [],
   "source": [
    "cat_df = listings_model_cols.select_dtypes(include=['object'])"
   ]
  },
  {
   "cell_type": "code",
   "execution_count": 381,
   "metadata": {},
   "outputs": [],
   "source": [
    "def create_dummy_df(df, cat_cols, dummy_na):\n",
    "    '''\n",
    "    INPUT:\n",
    "    df - pandas dataframe with categorical variables you want to dummy\n",
    "    cat_cols - list of strings that are associated with names of the categorical columns\n",
    "    dummy_na - Bool holding whether you want to dummy NA vals of categorical columns or not\n",
    "    \n",
    "    OUTPUT:\n",
    "    df - a new dataframe that has the following characteristics:\n",
    "            1. contains all columns that were not specified as categorical\n",
    "            2. removes all the original columns in cat_cols\n",
    "            3. dummy columns for each of the categorical columns in cat_cols\n",
    "            4. if dummy_na is True - it also contains dummy columns for the NaN values\n",
    "            5. Use a prefix of the column name with an underscore (_) for separating \n",
    "    dummies=pd.get_dummies(df[cat_cols],prefix_sep='_',dummy_na=dummy_na)\n",
    "    df=df.drop(cat_cols,axis=1)\n",
    "    df=pd.concat([df, dummies], axis=1)\n",
    "    '''\n",
    "    for col in  cat_cols:\n",
    "        try:\n",
    "            # for each cat add dummy var, drop original column\n",
    "            df = pd.concat([df.drop(col, axis=1), pd.get_dummies(df[col], prefix=col, prefix_sep='_', drop_first=True, dummy_na=dummy_na)], axis=1)\n",
    "        except:\n",
    "            continue\n",
    "    return df"
   ]
  },
  {
   "cell_type": "code",
   "execution_count": 385,
   "metadata": {},
   "outputs": [],
   "source": [
    "cat_cols_lst = cat_df.columns"
   ]
  },
  {
   "cell_type": "code",
   "execution_count": 387,
   "metadata": {},
   "outputs": [],
   "source": [
    "df_new = create_dummy_df(listings_b_clean, cat_cols_lst, dummy_na=False) #Use your newly created function"
   ]
  },
  {
   "cell_type": "code",
   "execution_count": 391,
   "metadata": {},
   "outputs": [
    {
     "name": "stdout",
     "output_type": "stream",
     "text": [
      "(3492, 59)\n"
     ]
    }
   ],
   "source": [
    "print(listings_b_clean.shape)"
   ]
  },
  {
   "cell_type": "code",
   "execution_count": 388,
   "metadata": {},
   "outputs": [
    {
     "name": "stdout",
     "output_type": "stream",
     "text": [
      "(3492, 74)\n"
     ]
    }
   ],
   "source": [
    "print(df_new.shape)"
   ]
  },
  {
   "cell_type": "code",
   "execution_count": 392,
   "metadata": {},
   "outputs": [
    {
     "data": {
      "text/html": [
       "<div>\n",
       "<style scoped>\n",
       "    .dataframe tbody tr th:only-of-type {\n",
       "        vertical-align: middle;\n",
       "    }\n",
       "\n",
       "    .dataframe tbody tr th {\n",
       "        vertical-align: top;\n",
       "    }\n",
       "\n",
       "    .dataframe thead th {\n",
       "        text-align: right;\n",
       "    }\n",
       "</style>\n",
       "<table border=\"1\" class=\"dataframe\">\n",
       "  <thead>\n",
       "    <tr style=\"text-align: right;\">\n",
       "      <th></th>\n",
       "      <th>id</th>\n",
       "      <th>listing_url</th>\n",
       "      <th>scrape_id</th>\n",
       "      <th>last_scraped</th>\n",
       "      <th>name</th>\n",
       "      <th>description</th>\n",
       "      <th>experiences_offered</th>\n",
       "      <th>picture_url</th>\n",
       "      <th>host_id</th>\n",
       "      <th>host_url</th>\n",
       "      <th>...</th>\n",
       "      <th>property_type_Loft</th>\n",
       "      <th>property_type_Other</th>\n",
       "      <th>property_type_Townhouse</th>\n",
       "      <th>property_type_Villa</th>\n",
       "      <th>room_type_Private room</th>\n",
       "      <th>room_type_Shared room</th>\n",
       "      <th>bed_type_Couch</th>\n",
       "      <th>bed_type_Futon</th>\n",
       "      <th>bed_type_Pull-out Sofa</th>\n",
       "      <th>bed_type_Real Bed</th>\n",
       "    </tr>\n",
       "  </thead>\n",
       "  <tbody>\n",
       "    <tr>\n",
       "      <th>0</th>\n",
       "      <td>12147973</td>\n",
       "      <td>https://www.airbnb.com/rooms/12147973</td>\n",
       "      <td>20160906204935</td>\n",
       "      <td>2016-09-07</td>\n",
       "      <td>Sunny Bungalow in the City</td>\n",
       "      <td>Cozy, sunny, family home.  Master bedroom high...</td>\n",
       "      <td>none</td>\n",
       "      <td>https://a2.muscache.com/im/pictures/c0842db1-e...</td>\n",
       "      <td>31303940</td>\n",
       "      <td>https://www.airbnb.com/users/show/31303940</td>\n",
       "      <td>...</td>\n",
       "      <td>0</td>\n",
       "      <td>0</td>\n",
       "      <td>0</td>\n",
       "      <td>0</td>\n",
       "      <td>0</td>\n",
       "      <td>0</td>\n",
       "      <td>0</td>\n",
       "      <td>0</td>\n",
       "      <td>0</td>\n",
       "      <td>1</td>\n",
       "    </tr>\n",
       "    <tr>\n",
       "      <th>1</th>\n",
       "      <td>3075044</td>\n",
       "      <td>https://www.airbnb.com/rooms/3075044</td>\n",
       "      <td>20160906204935</td>\n",
       "      <td>2016-09-07</td>\n",
       "      <td>Charming room in pet friendly apt</td>\n",
       "      <td>Charming and quiet room in a second floor 1910...</td>\n",
       "      <td>none</td>\n",
       "      <td>https://a1.muscache.com/im/pictures/39327812/d...</td>\n",
       "      <td>2572247</td>\n",
       "      <td>https://www.airbnb.com/users/show/2572247</td>\n",
       "      <td>...</td>\n",
       "      <td>0</td>\n",
       "      <td>0</td>\n",
       "      <td>0</td>\n",
       "      <td>0</td>\n",
       "      <td>1</td>\n",
       "      <td>0</td>\n",
       "      <td>0</td>\n",
       "      <td>0</td>\n",
       "      <td>0</td>\n",
       "      <td>1</td>\n",
       "    </tr>\n",
       "    <tr>\n",
       "      <th>2</th>\n",
       "      <td>6976</td>\n",
       "      <td>https://www.airbnb.com/rooms/6976</td>\n",
       "      <td>20160906204935</td>\n",
       "      <td>2016-09-07</td>\n",
       "      <td>Mexican Folk Art Haven in Boston</td>\n",
       "      <td>Come stay with a friendly, middle-aged guy in ...</td>\n",
       "      <td>none</td>\n",
       "      <td>https://a2.muscache.com/im/pictures/6ae8335d-9...</td>\n",
       "      <td>16701</td>\n",
       "      <td>https://www.airbnb.com/users/show/16701</td>\n",
       "      <td>...</td>\n",
       "      <td>0</td>\n",
       "      <td>0</td>\n",
       "      <td>0</td>\n",
       "      <td>0</td>\n",
       "      <td>1</td>\n",
       "      <td>0</td>\n",
       "      <td>0</td>\n",
       "      <td>0</td>\n",
       "      <td>0</td>\n",
       "      <td>1</td>\n",
       "    </tr>\n",
       "    <tr>\n",
       "      <th>4</th>\n",
       "      <td>7651065</td>\n",
       "      <td>https://www.airbnb.com/rooms/7651065</td>\n",
       "      <td>20160906204935</td>\n",
       "      <td>2016-09-07</td>\n",
       "      <td>Come Home to Boston</td>\n",
       "      <td>My comfy, clean and relaxing home is one block...</td>\n",
       "      <td>none</td>\n",
       "      <td>https://a1.muscache.com/im/pictures/97154760/8...</td>\n",
       "      <td>15396970</td>\n",
       "      <td>https://www.airbnb.com/users/show/15396970</td>\n",
       "      <td>...</td>\n",
       "      <td>0</td>\n",
       "      <td>0</td>\n",
       "      <td>0</td>\n",
       "      <td>0</td>\n",
       "      <td>1</td>\n",
       "      <td>0</td>\n",
       "      <td>0</td>\n",
       "      <td>0</td>\n",
       "      <td>0</td>\n",
       "      <td>1</td>\n",
       "    </tr>\n",
       "    <tr>\n",
       "      <th>5</th>\n",
       "      <td>12386020</td>\n",
       "      <td>https://www.airbnb.com/rooms/12386020</td>\n",
       "      <td>20160906204935</td>\n",
       "      <td>2016-09-07</td>\n",
       "      <td>Private Bedroom + Great Coffee</td>\n",
       "      <td>Super comfy bedroom plus your own bathroom in ...</td>\n",
       "      <td>none</td>\n",
       "      <td>https://a2.muscache.com/im/pictures/930c78b2-f...</td>\n",
       "      <td>64200298</td>\n",
       "      <td>https://www.airbnb.com/users/show/64200298</td>\n",
       "      <td>...</td>\n",
       "      <td>0</td>\n",
       "      <td>0</td>\n",
       "      <td>0</td>\n",
       "      <td>0</td>\n",
       "      <td>1</td>\n",
       "      <td>0</td>\n",
       "      <td>0</td>\n",
       "      <td>0</td>\n",
       "      <td>0</td>\n",
       "      <td>1</td>\n",
       "    </tr>\n",
       "  </tbody>\n",
       "</table>\n",
       "<p>5 rows × 74 columns</p>\n",
       "</div>"
      ],
      "text/plain": [
       "         id                            listing_url       scrape_id  \\\n",
       "0  12147973  https://www.airbnb.com/rooms/12147973  20160906204935   \n",
       "1   3075044   https://www.airbnb.com/rooms/3075044  20160906204935   \n",
       "2      6976      https://www.airbnb.com/rooms/6976  20160906204935   \n",
       "4   7651065   https://www.airbnb.com/rooms/7651065  20160906204935   \n",
       "5  12386020  https://www.airbnb.com/rooms/12386020  20160906204935   \n",
       "\n",
       "  last_scraped                               name  \\\n",
       "0   2016-09-07         Sunny Bungalow in the City   \n",
       "1   2016-09-07  Charming room in pet friendly apt   \n",
       "2   2016-09-07   Mexican Folk Art Haven in Boston   \n",
       "4   2016-09-07                Come Home to Boston   \n",
       "5   2016-09-07     Private Bedroom + Great Coffee   \n",
       "\n",
       "                                         description experiences_offered  \\\n",
       "0  Cozy, sunny, family home.  Master bedroom high...                none   \n",
       "1  Charming and quiet room in a second floor 1910...                none   \n",
       "2  Come stay with a friendly, middle-aged guy in ...                none   \n",
       "4  My comfy, clean and relaxing home is one block...                none   \n",
       "5  Super comfy bedroom plus your own bathroom in ...                none   \n",
       "\n",
       "                                         picture_url   host_id  \\\n",
       "0  https://a2.muscache.com/im/pictures/c0842db1-e...  31303940   \n",
       "1  https://a1.muscache.com/im/pictures/39327812/d...   2572247   \n",
       "2  https://a2.muscache.com/im/pictures/6ae8335d-9...     16701   \n",
       "4  https://a1.muscache.com/im/pictures/97154760/8...  15396970   \n",
       "5  https://a2.muscache.com/im/pictures/930c78b2-f...  64200298   \n",
       "\n",
       "                                     host_url  ... property_type_Loft  \\\n",
       "0  https://www.airbnb.com/users/show/31303940  ...                  0   \n",
       "1   https://www.airbnb.com/users/show/2572247  ...                  0   \n",
       "2     https://www.airbnb.com/users/show/16701  ...                  0   \n",
       "4  https://www.airbnb.com/users/show/15396970  ...                  0   \n",
       "5  https://www.airbnb.com/users/show/64200298  ...                  0   \n",
       "\n",
       "  property_type_Other property_type_Townhouse property_type_Villa  \\\n",
       "0                   0                       0                   0   \n",
       "1                   0                       0                   0   \n",
       "2                   0                       0                   0   \n",
       "4                   0                       0                   0   \n",
       "5                   0                       0                   0   \n",
       "\n",
       "  room_type_Private room room_type_Shared room  bed_type_Couch  \\\n",
       "0                      0                     0               0   \n",
       "1                      1                     0               0   \n",
       "2                      1                     0               0   \n",
       "4                      1                     0               0   \n",
       "5                      1                     0               0   \n",
       "\n",
       "   bed_type_Futon bed_type_Pull-out Sofa bed_type_Real Bed  \n",
       "0               0                      0                 1  \n",
       "1               0                      0                 1  \n",
       "2               0                      0                 1  \n",
       "4               0                      0                 1  \n",
       "5               0                      0                 1  \n",
       "\n",
       "[5 rows x 74 columns]"
      ]
     },
     "execution_count": 392,
     "metadata": {},
     "output_type": "execute_result"
    }
   ],
   "source": [
    "df_new.head()"
   ]
  },
  {
   "cell_type": "code",
   "execution_count": null,
   "metadata": {},
   "outputs": [],
   "source": [
    "#Split into explanatory and response variables\n",
    "X = df_new[['CareerSatisfaction', 'HoursPerWeek', 'JobSatisfaction', 'StackOverflowSatisfaction','number_of_reviews']]\n",
    "y = df_new['price']\n",
    "\n",
    "#Split into train and test\n",
    "X_train, X_test, y_train, y_test = train_test_split(X, y, test_size = .30, random_state=42) \n",
    "\n",
    "lm_model = LinearRegression(normalize=True) # Instantiate\n",
    "lm_model.fit(X_train, y_train) #Fit\n",
    "        \n",
    "#Predict and score the model\n",
    "y_test_preds = lm_model.predict(X_test) \n",
    "\"The r-squared score for the model using only quantitative variables was {} on {} values.\".format(r2_score(y_test, y_test_preds), len(y_test))"
   ]
  },
  {
   "cell_type": "code",
   "execution_count": 373,
   "metadata": {},
   "outputs": [
    {
     "name": "stdout",
     "output_type": "stream",
     "text": [
      "<class 'pandas.core.frame.DataFrame'>\n",
      "Int64Index: 3492 entries, 0 to 3584\n",
      "Data columns (total 59 columns):\n",
      " #   Column                            Non-Null Count  Dtype  \n",
      "---  ------                            --------------  -----  \n",
      " 0   id                                3492 non-null   int64  \n",
      " 1   listing_url                       3492 non-null   object \n",
      " 2   scrape_id                         3492 non-null   int64  \n",
      " 3   last_scraped                      3492 non-null   object \n",
      " 4   name                              3492 non-null   object \n",
      " 5   description                       3492 non-null   object \n",
      " 6   experiences_offered               3492 non-null   object \n",
      " 7   picture_url                       3492 non-null   object \n",
      " 8   host_id                           3492 non-null   int64  \n",
      " 9   host_url                          3492 non-null   object \n",
      " 10  host_name                         3492 non-null   object \n",
      " 11  host_since                        3492 non-null   object \n",
      " 12  host_location                     3492 non-null   object \n",
      " 13  host_is_superhost                 3492 non-null   object \n",
      " 14  host_thumbnail_url                3492 non-null   object \n",
      " 15  host_picture_url                  3492 non-null   object \n",
      " 16  host_listings_count               3492 non-null   int64  \n",
      " 17  host_total_listings_count         3492 non-null   int64  \n",
      " 18  host_verifications                3492 non-null   object \n",
      " 19  host_has_profile_pic              3492 non-null   object \n",
      " 20  host_identity_verified            3492 non-null   object \n",
      " 21  street                            3492 non-null   object \n",
      " 22  neighbourhood_cleansed            3492 non-null   object \n",
      " 23  city                              3492 non-null   object \n",
      " 24  state                             3492 non-null   object \n",
      " 25  zipcode                           3492 non-null   object \n",
      " 26  market                            3492 non-null   object \n",
      " 27  smart_location                    3492 non-null   object \n",
      " 28  country_code                      3492 non-null   object \n",
      " 29  country                           3492 non-null   object \n",
      " 30  latitude                          3492 non-null   float64\n",
      " 31  longitude                         3492 non-null   float64\n",
      " 32  is_location_exact                 3492 non-null   object \n",
      " 33  property_type                     3492 non-null   object \n",
      " 34  room_type                         3492 non-null   object \n",
      " 35  accommodates                      3492 non-null   int64  \n",
      " 36  bathrooms                         3492 non-null   float64\n",
      " 37  bedrooms                          3492 non-null   float64\n",
      " 38  beds                              3492 non-null   float64\n",
      " 39  bed_type                          3492 non-null   object \n",
      " 40  amenities                         3492 non-null   object \n",
      " 41  price                             3492 non-null   float64\n",
      " 42  guests_included                   3492 non-null   int64  \n",
      " 43  extra_people                      3492 non-null   object \n",
      " 44  minimum_nights                    3492 non-null   int64  \n",
      " 45  maximum_nights                    3492 non-null   int64  \n",
      " 46  calendar_updated                  3492 non-null   object \n",
      " 47  availability_30                   3492 non-null   int64  \n",
      " 48  availability_60                   3492 non-null   int64  \n",
      " 49  availability_90                   3492 non-null   int64  \n",
      " 50  availability_365                  3492 non-null   int64  \n",
      " 51  calendar_last_scraped             3492 non-null   object \n",
      " 52  number_of_reviews                 3492 non-null   int64  \n",
      " 53  requires_license                  3492 non-null   object \n",
      " 54  instant_bookable                  3492 non-null   object \n",
      " 55  cancellation_policy               3492 non-null   object \n",
      " 56  require_guest_profile_picture     3492 non-null   object \n",
      " 57  require_guest_phone_verification  3492 non-null   object \n",
      " 58  calculated_host_listings_count    3492 non-null   int64  \n",
      "dtypes: float64(6), int64(15), object(38)\n",
      "memory usage: 1.6+ MB\n"
     ]
    }
   ],
   "source": [
    "listings_b_clean.info()"
   ]
  },
  {
   "cell_type": "code",
   "execution_count": 234,
   "metadata": {},
   "outputs": [],
   "source": [
    "left=calendar_b_clean\n",
    "\n",
    "left.loc[:,'id']=left.loc[:,'listing_id']\n",
    "\n",
    "right=listings_b_clean.loc[:,['id','city','state']]"
   ]
  },
  {
   "cell_type": "code",
   "execution_count": 235,
   "metadata": {},
   "outputs": [],
   "source": [
    "result =  pd.merge(left, right[['id','city','state']], how='left', on=['id'])"
   ]
  },
  {
   "cell_type": "code",
   "execution_count": 236,
   "metadata": {},
   "outputs": [
    {
     "name": "stdout",
     "output_type": "stream",
     "text": [
      "<class 'pandas.core.frame.DataFrame'>\n",
      "Int64Index: 643037 entries, 0 to 643036\n",
      "Data columns (total 7 columns):\n",
      " #   Column      Non-Null Count   Dtype         \n",
      "---  ------      --------------   -----         \n",
      " 0   listing_id  643037 non-null  int64         \n",
      " 1   date        643037 non-null  datetime64[ns]\n",
      " 2   available   643037 non-null  object        \n",
      " 3   price       643037 non-null  float64       \n",
      " 4   id          643037 non-null  int64         \n",
      " 5   city        625282 non-null  object        \n",
      " 6   state       625282 non-null  object        \n",
      "dtypes: datetime64[ns](1), float64(1), int64(2), object(3)\n",
      "memory usage: 39.2+ MB\n"
     ]
    }
   ],
   "source": [
    "result.info()"
   ]
  },
  {
   "cell_type": "code",
   "execution_count": 237,
   "metadata": {},
   "outputs": [],
   "source": [
    "result_clean=result.dropna(subset=['city'])"
   ]
  },
  {
   "cell_type": "code",
   "execution_count": 238,
   "metadata": {},
   "outputs": [],
   "source": [
    "result_clean.loc[:,'month']= pd.to_datetime(result_clean['date'], format=\"%Y%m\") + MonthEnd(1)"
   ]
  },
  {
   "cell_type": "code",
   "execution_count": 239,
   "metadata": {
    "scrolled": false
   },
   "outputs": [
    {
     "name": "stdout",
     "output_type": "stream",
     "text": [
      "<class 'pandas.core.frame.DataFrame'>\n",
      "Int64Index: 625282 entries, 0 to 643036\n",
      "Data columns (total 8 columns):\n",
      " #   Column      Non-Null Count   Dtype         \n",
      "---  ------      --------------   -----         \n",
      " 0   listing_id  625282 non-null  int64         \n",
      " 1   date        625282 non-null  datetime64[ns]\n",
      " 2   available   625282 non-null  object        \n",
      " 3   price       625282 non-null  float64       \n",
      " 4   id          625282 non-null  int64         \n",
      " 5   city        625282 non-null  object        \n",
      " 6   state       625282 non-null  object        \n",
      " 7   month       625282 non-null  datetime64[ns]\n",
      "dtypes: datetime64[ns](2), float64(1), int64(2), object(3)\n",
      "memory usage: 42.9+ MB\n"
     ]
    }
   ],
   "source": [
    "result_clean.info()"
   ]
  },
  {
   "cell_type": "code",
   "execution_count": 338,
   "metadata": {},
   "outputs": [
    {
     "data": {
      "image/png": "[encoded data removed]",
      "text/plain": [
       "<Figure size 432x288 with 1 Axes>"
      ]
     },
     "metadata": {
      "needs_background": "light"
     },
     "output_type": "display_data"
    }
   ],
   "source": [
    "result_clean[(result_clean['city']=='Boston')&(result_clean['month']=='2016-09-30')]['price'].hist(bins=50);"
   ]
  },
  {
   "cell_type": "code",
   "execution_count": 334,
   "metadata": {
    "scrolled": true
   },
   "outputs": [
    {
     "data": {
      "text/plain": [
       "month\n",
       "2016-09-30    225.0\n",
       "2016-10-31    198.0\n",
       "2016-11-30    170.0\n",
       "2016-12-31    160.0\n",
       "2017-01-31    152.0\n",
       "2017-02-28    150.0\n",
       "2017-03-31    150.0\n",
       "2017-04-30    155.0\n",
       "2017-05-31    150.0\n",
       "2017-06-30    152.0\n",
       "2017-07-31    155.0\n",
       "2017-08-31    155.0\n",
       "2017-09-30    150.0\n",
       "Name: price, dtype: float64"
      ]
     },
     "execution_count": 334,
     "metadata": {},
     "output_type": "execute_result"
    }
   ],
   "source": [
    "result_clean[result_clean['city']=='Boston'].groupby(['month'])['price'].median()"
   ]
  },
  {
   "cell_type": "code",
   "execution_count": 344,
   "metadata": {},
   "outputs": [],
   "source": [
    "boston_median_rate_dynamic=result_clean[result_clean['city']=='Boston'].groupby(['month'])['price'].median()"
   ]
  },
  {
   "cell_type": "code",
   "execution_count": 342,
   "metadata": {},
   "outputs": [
    {
     "data": {
      "image/png": "[encoded data removed]",
      "text/plain": [
       "<Figure size 1008x432 with 1 Axes>"
      ]
     },
     "metadata": {
      "needs_background": "light"
     },
     "output_type": "display_data"
    }
   ],
   "source": [
    "ax=boston_median_rate_dynamic.plot(figsize=[14,6])\n",
    "ax.yaxis.set_major_formatter(mtick.StrMethodFormatter('{x:,.0f}'))"
   ]
  },
  {
   "cell_type": "code",
   "execution_count": 345,
   "metadata": {},
   "outputs": [],
   "source": [
    "boston_earnings_dynamic=result_clean[result_clean['city']=='Boston'].groupby(['month'])['price'].sum()"
   ]
  },
  {
   "cell_type": "code",
   "execution_count": 347,
   "metadata": {},
   "outputs": [
    {
     "data": {
      "image/png": "[encoded data removed]",
      "text/plain": [
       "<Figure size 1008x432 with 1 Axes>"
      ]
     },
     "metadata": {
      "needs_background": "light"
     },
     "output_type": "display_data"
    }
   ],
   "source": [
    "ax1=boston_earnings_dynamic.plot(figsize=[14,6])\n",
    "ax1.yaxis.set_major_formatter(mtick.StrMethodFormatter('{x:,.0f}'))"
   ]
  },
  {
   "cell_type": "code",
   "execution_count": null,
   "metadata": {},
   "outputs": [],
   "source": []
  }
 ],
 "metadata": {
  "kernelspec": {
   "display_name": "Python 3",
   "language": "python",
   "name": "python3"
  },
  "language_info": {
   "codemirror_mode": {
    "name": "ipython",
    "version": 3
   },
   "file_extension": ".py",
   "mimetype": "text/x-python",
   "name": "python",
   "nbconvert_exporter": "python",
   "pygments_lexer": "ipython3",
   "version": "3.7.6"
  }
 },
 "nbformat": 4,
 "nbformat_minor": 4
}
